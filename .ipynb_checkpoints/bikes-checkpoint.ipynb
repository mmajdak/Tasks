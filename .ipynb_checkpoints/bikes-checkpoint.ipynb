{
 "cells": [
  {
   "cell_type": "markdown",
   "metadata": {
    "id": "RUIM2ln9Vocw"
   },
   "source": [
    "a) Przekształcenia danych:\n",
    "Zbiór danych: bikes.csv\n",
    "Treść zadań:\n",
    "1. Posortuj dane po dacie\n",
    "2. Stwórz nowe kolumny:\n",
    "- Dzień tygodnia\n",
    "- Miesiąc\n",
    "- Pora roku\n",
    "- Kwartał\n",
    "- Niedziele handlowe\n",
    "3. Oblicz średnią sprzedaż rowerów na dzień tygodnia, porę roku, miesiąc i przedstaw te wartości w formie graficznej.\n",
    "4. Utwórz histogram sprzedaży rowerów zależny od dnia tygodnia i zinterpretuj uzyskane wyniki.\n",
    "5. Stwórz wykres szeregu czasowego i zaznacz osobnym kolorem 5 dni z największą liczbą sprzedaży.\n",
    "6. Jakie inne zmienne mogłyby pomóc w prognozowaniu sprzedaży rowerów?"
   ]
  },
  {
   "cell_type": "code",
   "execution_count": 1,
   "metadata": {
    "colab": {
     "base_uri": "https://localhost:8080/"
    },
    "executionInfo": {
     "elapsed": 21426,
     "status": "ok",
     "timestamp": 1654691050000,
     "user": {
      "displayName": "Mariusz Majdak",
      "userId": "01933143691972178020"
     },
     "user_tz": -120
    },
    "id": "GtnwdqiEZIKu",
    "outputId": "73c4edb2-fc6e-4d13-89c3-33591d7ad250"
   },
   "outputs": [],
   "source": [
    "# from google.colab import drive\n",
    "# drive.mount('/content/gdrive')"
   ]
  },
  {
   "cell_type": "code",
   "execution_count": 2,
   "metadata": {
    "colab": {
     "base_uri": "https://localhost:8080/"
    },
    "executionInfo": {
     "elapsed": 374,
     "status": "ok",
     "timestamp": 1654691050368,
     "user": {
      "displayName": "Mariusz Majdak",
      "userId": "01933143691972178020"
     },
     "user_tz": -120
    },
    "id": "fRxyi6hAbC8D",
    "outputId": "127b9ee6-eb45-48fa-bf6a-6c30defa9e47"
   },
   "outputs": [],
   "source": [
    "# cd gdrive/MyDrive/Colab\\ Notebooks/zad"
   ]
  },
  {
   "cell_type": "code",
   "execution_count": 3,
   "metadata": {
    "colab": {
     "base_uri": "https://localhost:8080/"
    },
    "executionInfo": {
     "elapsed": 293,
     "status": "ok",
     "timestamp": 1654691050657,
     "user": {
      "displayName": "Mariusz Majdak",
      "userId": "01933143691972178020"
     },
     "user_tz": -120
    },
    "id": "rxuFJa1aZTFS",
    "outputId": "138819d6-fec2-403f-f65c-3437fdcb551f"
   },
   "outputs": [],
   "source": [
    "# ls"
   ]
  },
  {
   "cell_type": "markdown",
   "metadata": {
    "id": "hKUqyu4aWZvR"
   },
   "source": [
    "Wczytanie potrzebnych biblioek oraz danych. Wykonanie pierwszej częsci zadania a."
   ]
  },
  {
   "cell_type": "code",
   "execution_count": 4,
   "metadata": {
    "executionInfo": {
     "elapsed": 553,
     "status": "ok",
     "timestamp": 1654691051209,
     "user": {
      "displayName": "Mariusz Majdak",
      "userId": "01933143691972178020"
     },
     "user_tz": -120
    },
    "id": "Lsz6AF1AbKTM"
   },
   "outputs": [],
   "source": [
    "import pandas as pd\n",
    "from datetime import date, datetime\n",
    "import matplotlib.pyplot as plt"
   ]
  },
  {
   "cell_type": "code",
   "execution_count": 5,
   "metadata": {
    "executionInfo": {
     "elapsed": 388,
     "status": "ok",
     "timestamp": 1654691051595,
     "user": {
      "displayName": "Mariusz Majdak",
      "userId": "01933143691972178020"
     },
     "user_tz": -120
    },
    "id": "2YnrMLB3bOrS"
   },
   "outputs": [],
   "source": [
    "data = pd.read_csv('bikes.csv', delimiter=';')"
   ]
  },
  {
   "cell_type": "code",
   "execution_count": 6,
   "metadata": {
    "colab": {
     "base_uri": "https://localhost:8080/"
    },
    "executionInfo": {
     "elapsed": 16,
     "status": "ok",
     "timestamp": 1654691051596,
     "user": {
      "displayName": "Mariusz Majdak",
      "userId": "01933143691972178020"
     },
     "user_tz": -120
    },
    "id": "0uVD6svdVR1j",
    "outputId": "af8946ba-daf5-46ed-8ef8-102cdf7f3323"
   },
   "outputs": [
    {
     "name": "stderr",
     "output_type": "stream",
     "text": [
      "C:\\Users\\Mariusz\\anaconda3\\lib\\site-packages\\pandas\\core\\indexing.py:1637: SettingWithCopyWarning: \n",
      "A value is trying to be set on a copy of a slice from a DataFrame\n",
      "\n",
      "See the caveats in the documentation: https://pandas.pydata.org/pandas-docs/stable/user_guide/indexing.html#returning-a-view-versus-a-copy\n",
      "  self._setitem_single_block(indexer, value, name)\n"
     ]
    }
   ],
   "source": [
    "for i in range(0, len(data)):\n",
    "  data['date'].loc[i] = datetime.strptime(data['date'].loc[i], '%d.%m.%Y').date()"
   ]
  },
  {
   "cell_type": "code",
   "execution_count": 7,
   "metadata": {
    "colab": {
     "base_uri": "https://localhost:8080/",
     "height": 423
    },
    "executionInfo": {
     "elapsed": 15,
     "status": "ok",
     "timestamp": 1654691051597,
     "user": {
      "displayName": "Mariusz Majdak",
      "userId": "01933143691972178020"
     },
     "user_tz": -120
    },
    "id": "HiXMrZHuIrl3",
    "outputId": "e0144545-4687-478e-cc3f-b6957c8bc95c"
   },
   "outputs": [
    {
     "data": {
      "text/html": [
       "<div>\n",
       "<style scoped>\n",
       "    .dataframe tbody tr th:only-of-type {\n",
       "        vertical-align: middle;\n",
       "    }\n",
       "\n",
       "    .dataframe tbody tr th {\n",
       "        vertical-align: top;\n",
       "    }\n",
       "\n",
       "    .dataframe thead th {\n",
       "        text-align: right;\n",
       "    }\n",
       "</style>\n",
       "<table border=\"1\" class=\"dataframe\">\n",
       "  <thead>\n",
       "    <tr style=\"text-align: right;\">\n",
       "      <th></th>\n",
       "      <th>Unnamed: 0</th>\n",
       "      <th>date</th>\n",
       "      <th>bikes</th>\n",
       "    </tr>\n",
       "  </thead>\n",
       "  <tbody>\n",
       "    <tr>\n",
       "      <th>0</th>\n",
       "      <td>1</td>\n",
       "      <td>2019-01-02</td>\n",
       "      <td>123</td>\n",
       "    </tr>\n",
       "    <tr>\n",
       "      <th>1</th>\n",
       "      <td>2</td>\n",
       "      <td>2019-01-03</td>\n",
       "      <td>195</td>\n",
       "    </tr>\n",
       "    <tr>\n",
       "      <th>2</th>\n",
       "      <td>3</td>\n",
       "      <td>2019-01-04</td>\n",
       "      <td>202</td>\n",
       "    </tr>\n",
       "    <tr>\n",
       "      <th>3</th>\n",
       "      <td>4</td>\n",
       "      <td>2019-01-05</td>\n",
       "      <td>75</td>\n",
       "    </tr>\n",
       "    <tr>\n",
       "      <th>4</th>\n",
       "      <td>5</td>\n",
       "      <td>2019-01-07</td>\n",
       "      <td>178</td>\n",
       "    </tr>\n",
       "    <tr>\n",
       "      <th>...</th>\n",
       "      <td>...</td>\n",
       "      <td>...</td>\n",
       "      <td>...</td>\n",
       "    </tr>\n",
       "    <tr>\n",
       "      <th>345</th>\n",
       "      <td>346</td>\n",
       "      <td>2019-12-27</td>\n",
       "      <td>83</td>\n",
       "    </tr>\n",
       "    <tr>\n",
       "      <th>346</th>\n",
       "      <td>347</td>\n",
       "      <td>2019-12-28</td>\n",
       "      <td>217</td>\n",
       "    </tr>\n",
       "    <tr>\n",
       "      <th>347</th>\n",
       "      <td>348</td>\n",
       "      <td>2019-12-29</td>\n",
       "      <td>82</td>\n",
       "    </tr>\n",
       "    <tr>\n",
       "      <th>348</th>\n",
       "      <td>349</td>\n",
       "      <td>2019-12-30</td>\n",
       "      <td>200</td>\n",
       "    </tr>\n",
       "    <tr>\n",
       "      <th>349</th>\n",
       "      <td>350</td>\n",
       "      <td>2019-12-31</td>\n",
       "      <td>70</td>\n",
       "    </tr>\n",
       "  </tbody>\n",
       "</table>\n",
       "<p>350 rows × 3 columns</p>\n",
       "</div>"
      ],
      "text/plain": [
       "     Unnamed: 0        date  bikes\n",
       "0             1  2019-01-02    123\n",
       "1             2  2019-01-03    195\n",
       "2             3  2019-01-04    202\n",
       "3             4  2019-01-05     75\n",
       "4             5  2019-01-07    178\n",
       "..          ...         ...    ...\n",
       "345         346  2019-12-27     83\n",
       "346         347  2019-12-28    217\n",
       "347         348  2019-12-29     82\n",
       "348         349  2019-12-30    200\n",
       "349         350  2019-12-31     70\n",
       "\n",
       "[350 rows x 3 columns]"
      ]
     },
     "execution_count": 7,
     "metadata": {},
     "output_type": "execute_result"
    }
   ],
   "source": [
    "# sortowanie po dacie\n",
    "\n",
    "data.sort_values(by=['date'])"
   ]
  },
  {
   "cell_type": "markdown",
   "metadata": {
    "id": "4o-2AQfTWqxt"
   },
   "source": [
    "Wykonanie drugiej części zadania - utworzenie dodatkowych kolumn."
   ]
  },
  {
   "cell_type": "code",
   "execution_count": 8,
   "metadata": {
    "executionInfo": {
     "elapsed": 11,
     "status": "ok",
     "timestamp": 1654691051866,
     "user": {
      "displayName": "Mariusz Majdak",
      "userId": "01933143691972178020"
     },
     "user_tz": -120
    },
    "id": "oDgMa2UVmWgE"
   },
   "outputs": [],
   "source": [
    "df = pd.DataFrame(columns=['Dzien tygodnia', 'Miesiac', 'Pora roku', 'Kwartal', 'Niedziele handlowe'])"
   ]
  },
  {
   "cell_type": "code",
   "execution_count": 9,
   "metadata": {
    "colab": {
     "base_uri": "https://localhost:8080/",
     "height": 49
    },
    "executionInfo": {
     "elapsed": 11,
     "status": "ok",
     "timestamp": 1654691051867,
     "user": {
      "displayName": "Mariusz Majdak",
      "userId": "01933143691972178020"
     },
     "user_tz": -120
    },
    "id": "ftLu7CaPnFm1",
    "outputId": "8b421107-e699-47ba-b803-a56902a8414b"
   },
   "outputs": [
    {
     "data": {
      "text/html": [
       "<div>\n",
       "<style scoped>\n",
       "    .dataframe tbody tr th:only-of-type {\n",
       "        vertical-align: middle;\n",
       "    }\n",
       "\n",
       "    .dataframe tbody tr th {\n",
       "        vertical-align: top;\n",
       "    }\n",
       "\n",
       "    .dataframe thead th {\n",
       "        text-align: right;\n",
       "    }\n",
       "</style>\n",
       "<table border=\"1\" class=\"dataframe\">\n",
       "  <thead>\n",
       "    <tr style=\"text-align: right;\">\n",
       "      <th></th>\n",
       "      <th>Dzien tygodnia</th>\n",
       "      <th>Miesiac</th>\n",
       "      <th>Pora roku</th>\n",
       "      <th>Kwartal</th>\n",
       "      <th>Niedziele handlowe</th>\n",
       "    </tr>\n",
       "  </thead>\n",
       "  <tbody>\n",
       "  </tbody>\n",
       "</table>\n",
       "</div>"
      ],
      "text/plain": [
       "Empty DataFrame\n",
       "Columns: [Dzien tygodnia, Miesiac, Pora roku, Kwartal, Niedziele handlowe]\n",
       "Index: []"
      ]
     },
     "execution_count": 9,
     "metadata": {},
     "output_type": "execute_result"
    }
   ],
   "source": [
    "df"
   ]
  },
  {
   "cell_type": "code",
   "execution_count": 10,
   "metadata": {
    "executionInfo": {
     "elapsed": 10,
     "status": "ok",
     "timestamp": 1654691051868,
     "user": {
      "displayName": "Mariusz Majdak",
      "userId": "01933143691972178020"
     },
     "user_tz": -120
    },
    "id": "lxEbjVI1JW1q"
   },
   "outputs": [],
   "source": [
    "# dołączenie nowych kolumn do pierwotnego DataFrame utworzonego z pliku bikes.csv\n",
    "\n",
    "result = pd.concat([data, df], axis=1)"
   ]
  },
  {
   "cell_type": "code",
   "execution_count": 11,
   "metadata": {
    "colab": {
     "base_uri": "https://localhost:8080/"
    },
    "executionInfo": {
     "elapsed": 11,
     "status": "ok",
     "timestamp": 1654691051869,
     "user": {
      "displayName": "Mariusz Majdak",
      "userId": "01933143691972178020"
     },
     "user_tz": -120
    },
    "id": "bSs-8KMpJbIJ",
    "outputId": "c074bc69-8808-4f32-b3f4-ec20d6385805"
   },
   "outputs": [
    {
     "data": {
      "text/plain": [
       "Index(['Unnamed: 0', 'date', 'bikes', 'Dzien tygodnia', 'Miesiac', 'Pora roku',\n",
       "       'Kwartal', 'Niedziele handlowe'],\n",
       "      dtype='object')"
      ]
     },
     "execution_count": 11,
     "metadata": {},
     "output_type": "execute_result"
    }
   ],
   "source": [
    "result.columns"
   ]
  },
  {
   "cell_type": "code",
   "execution_count": 12,
   "metadata": {
    "colab": {
     "base_uri": "https://localhost:8080/"
    },
    "executionInfo": {
     "elapsed": 279,
     "status": "ok",
     "timestamp": 1654691052140,
     "user": {
      "displayName": "Mariusz Majdak",
      "userId": "01933143691972178020"
     },
     "user_tz": -120
    },
    "id": "NrS9SKeBKyWL",
    "outputId": "4cb7306e-de78-475e-f31e-aea42ef44001"
   },
   "outputs": [
    {
     "name": "stderr",
     "output_type": "stream",
     "text": [
      "C:\\Users\\Mariusz\\anaconda3\\lib\\site-packages\\pandas\\core\\indexing.py:1637: SettingWithCopyWarning: \n",
      "A value is trying to be set on a copy of a slice from a DataFrame\n",
      "\n",
      "See the caveats in the documentation: https://pandas.pydata.org/pandas-docs/stable/user_guide/indexing.html#returning-a-view-versus-a-copy\n",
      "  self._setitem_single_block(indexer, value, name)\n"
     ]
    }
   ],
   "source": [
    "# wypelnienie kolumn 'Dzien tygodnia' oraz 'Miesiac' odpowiednimi wartosciami\n",
    "\n",
    "for i in range(0, len(result)):\n",
    "  result['Dzien tygodnia'].loc[i] = result['date'].loc[i].strftime('%A')\n",
    "  result['Miesiac'].loc[i] = result['date'].loc[i].strftime('%B')"
   ]
  },
  {
   "cell_type": "code",
   "execution_count": 13,
   "metadata": {
    "executionInfo": {
     "elapsed": 2,
     "status": "ok",
     "timestamp": 1654691052140,
     "user": {
      "displayName": "Mariusz Majdak",
      "userId": "01933143691972178020"
     },
     "user_tz": -120
    },
    "id": "9GN2hoMQLTVw"
   },
   "outputs": [],
   "source": [
    "# wypelnienie koumny 'Pora roku' poprzez stworzenie odpowiedniej funkcji\n",
    "\n",
    "seasons = {'Summer':(date(2019,6,21), date(2019,9,22)),\n",
    "           'Autumn':(date(2019,9,23), date(2019,12,20)),\n",
    "           'Spring':(date(2019,3,21), date(2019,6,20))}\n",
    "\n",
    "def get_season(date):\n",
    "    for season,(season_start, season_end) in seasons.items():\n",
    "        if date>=season_start and date<= season_end:\n",
    "            return season\n",
    "    else:\n",
    "        return 'Winter'"
   ]
  },
  {
   "cell_type": "code",
   "execution_count": 14,
   "metadata": {
    "colab": {
     "base_uri": "https://localhost:8080/"
    },
    "executionInfo": {
     "elapsed": 271,
     "status": "ok",
     "timestamp": 1654691052409,
     "user": {
      "displayName": "Mariusz Majdak",
      "userId": "01933143691972178020"
     },
     "user_tz": -120
    },
    "id": "pRi2CkvMAVVl",
    "outputId": "25e5d013-9ce7-4867-cdbb-1b21277e805b"
   },
   "outputs": [],
   "source": [
    "for k in range(0, len(result)):\n",
    "  result['Pora roku'].loc[k] = get_season(result['date'].loc[k])"
   ]
  },
  {
   "cell_type": "code",
   "execution_count": 15,
   "metadata": {
    "colab": {
     "base_uri": "https://localhost:8080/"
    },
    "executionInfo": {
     "elapsed": 8,
     "status": "ok",
     "timestamp": 1654691052410,
     "user": {
      "displayName": "Mariusz Majdak",
      "userId": "01933143691972178020"
     },
     "user_tz": -120
    },
    "id": "hiKT3CoaZlN6",
    "outputId": "b492e54c-f1f6-4602-e503-170237356ce8"
   },
   "outputs": [],
   "source": [
    "# wypelnie kolumny 'kwartal'\n",
    "\n",
    "for j in range(0, len(result)):\n",
    "  result['Kwartal'].loc[j] = (result['date'].loc[j].month - 1)//3 + 1"
   ]
  },
  {
   "cell_type": "code",
   "execution_count": 16,
   "metadata": {
    "colab": {
     "base_uri": "https://localhost:8080/",
     "height": 423
    },
    "executionInfo": {
     "elapsed": 5,
     "status": "ok",
     "timestamp": 1654691052410,
     "user": {
      "displayName": "Mariusz Majdak",
      "userId": "01933143691972178020"
     },
     "user_tz": -120
    },
    "id": "RbP3W-71YGFy",
    "outputId": "b4bf84c3-4b97-4ba2-e26b-0badfd778244"
   },
   "outputs": [
    {
     "data": {
      "text/html": [
       "<div>\n",
       "<style scoped>\n",
       "    .dataframe tbody tr th:only-of-type {\n",
       "        vertical-align: middle;\n",
       "    }\n",
       "\n",
       "    .dataframe tbody tr th {\n",
       "        vertical-align: top;\n",
       "    }\n",
       "\n",
       "    .dataframe thead th {\n",
       "        text-align: right;\n",
       "    }\n",
       "</style>\n",
       "<table border=\"1\" class=\"dataframe\">\n",
       "  <thead>\n",
       "    <tr style=\"text-align: right;\">\n",
       "      <th></th>\n",
       "      <th>Unnamed: 0</th>\n",
       "      <th>date</th>\n",
       "      <th>bikes</th>\n",
       "      <th>Dzien tygodnia</th>\n",
       "      <th>Miesiac</th>\n",
       "      <th>Pora roku</th>\n",
       "      <th>Kwartal</th>\n",
       "      <th>Niedziele handlowe</th>\n",
       "    </tr>\n",
       "  </thead>\n",
       "  <tbody>\n",
       "    <tr>\n",
       "      <th>0</th>\n",
       "      <td>1</td>\n",
       "      <td>2019-01-02</td>\n",
       "      <td>123</td>\n",
       "      <td>Wednesday</td>\n",
       "      <td>January</td>\n",
       "      <td>Winter</td>\n",
       "      <td>1</td>\n",
       "      <td>NaN</td>\n",
       "    </tr>\n",
       "    <tr>\n",
       "      <th>1</th>\n",
       "      <td>2</td>\n",
       "      <td>2019-01-03</td>\n",
       "      <td>195</td>\n",
       "      <td>Thursday</td>\n",
       "      <td>January</td>\n",
       "      <td>Winter</td>\n",
       "      <td>1</td>\n",
       "      <td>NaN</td>\n",
       "    </tr>\n",
       "    <tr>\n",
       "      <th>2</th>\n",
       "      <td>3</td>\n",
       "      <td>2019-01-04</td>\n",
       "      <td>202</td>\n",
       "      <td>Friday</td>\n",
       "      <td>January</td>\n",
       "      <td>Winter</td>\n",
       "      <td>1</td>\n",
       "      <td>NaN</td>\n",
       "    </tr>\n",
       "    <tr>\n",
       "      <th>3</th>\n",
       "      <td>4</td>\n",
       "      <td>2019-01-05</td>\n",
       "      <td>75</td>\n",
       "      <td>Saturday</td>\n",
       "      <td>January</td>\n",
       "      <td>Winter</td>\n",
       "      <td>1</td>\n",
       "      <td>NaN</td>\n",
       "    </tr>\n",
       "    <tr>\n",
       "      <th>4</th>\n",
       "      <td>5</td>\n",
       "      <td>2019-01-07</td>\n",
       "      <td>178</td>\n",
       "      <td>Monday</td>\n",
       "      <td>January</td>\n",
       "      <td>Winter</td>\n",
       "      <td>1</td>\n",
       "      <td>NaN</td>\n",
       "    </tr>\n",
       "    <tr>\n",
       "      <th>...</th>\n",
       "      <td>...</td>\n",
       "      <td>...</td>\n",
       "      <td>...</td>\n",
       "      <td>...</td>\n",
       "      <td>...</td>\n",
       "      <td>...</td>\n",
       "      <td>...</td>\n",
       "      <td>...</td>\n",
       "    </tr>\n",
       "    <tr>\n",
       "      <th>345</th>\n",
       "      <td>346</td>\n",
       "      <td>2019-12-27</td>\n",
       "      <td>83</td>\n",
       "      <td>Friday</td>\n",
       "      <td>December</td>\n",
       "      <td>Winter</td>\n",
       "      <td>4</td>\n",
       "      <td>NaN</td>\n",
       "    </tr>\n",
       "    <tr>\n",
       "      <th>346</th>\n",
       "      <td>347</td>\n",
       "      <td>2019-12-28</td>\n",
       "      <td>217</td>\n",
       "      <td>Saturday</td>\n",
       "      <td>December</td>\n",
       "      <td>Winter</td>\n",
       "      <td>4</td>\n",
       "      <td>NaN</td>\n",
       "    </tr>\n",
       "    <tr>\n",
       "      <th>347</th>\n",
       "      <td>348</td>\n",
       "      <td>2019-12-29</td>\n",
       "      <td>82</td>\n",
       "      <td>Sunday</td>\n",
       "      <td>December</td>\n",
       "      <td>Winter</td>\n",
       "      <td>4</td>\n",
       "      <td>NaN</td>\n",
       "    </tr>\n",
       "    <tr>\n",
       "      <th>348</th>\n",
       "      <td>349</td>\n",
       "      <td>2019-12-30</td>\n",
       "      <td>200</td>\n",
       "      <td>Monday</td>\n",
       "      <td>December</td>\n",
       "      <td>Winter</td>\n",
       "      <td>4</td>\n",
       "      <td>NaN</td>\n",
       "    </tr>\n",
       "    <tr>\n",
       "      <th>349</th>\n",
       "      <td>350</td>\n",
       "      <td>2019-12-31</td>\n",
       "      <td>70</td>\n",
       "      <td>Tuesday</td>\n",
       "      <td>December</td>\n",
       "      <td>Winter</td>\n",
       "      <td>4</td>\n",
       "      <td>NaN</td>\n",
       "    </tr>\n",
       "  </tbody>\n",
       "</table>\n",
       "<p>350 rows × 8 columns</p>\n",
       "</div>"
      ],
      "text/plain": [
       "     Unnamed: 0        date  bikes Dzien tygodnia   Miesiac Pora roku Kwartal  \\\n",
       "0             1  2019-01-02    123      Wednesday   January    Winter       1   \n",
       "1             2  2019-01-03    195       Thursday   January    Winter       1   \n",
       "2             3  2019-01-04    202         Friday   January    Winter       1   \n",
       "3             4  2019-01-05     75       Saturday   January    Winter       1   \n",
       "4             5  2019-01-07    178         Monday   January    Winter       1   \n",
       "..          ...         ...    ...            ...       ...       ...     ...   \n",
       "345         346  2019-12-27     83         Friday  December    Winter       4   \n",
       "346         347  2019-12-28    217       Saturday  December    Winter       4   \n",
       "347         348  2019-12-29     82         Sunday  December    Winter       4   \n",
       "348         349  2019-12-30    200         Monday  December    Winter       4   \n",
       "349         350  2019-12-31     70        Tuesday  December    Winter       4   \n",
       "\n",
       "    Niedziele handlowe  \n",
       "0                  NaN  \n",
       "1                  NaN  \n",
       "2                  NaN  \n",
       "3                  NaN  \n",
       "4                  NaN  \n",
       "..                 ...  \n",
       "345                NaN  \n",
       "346                NaN  \n",
       "347                NaN  \n",
       "348                NaN  \n",
       "349                NaN  \n",
       "\n",
       "[350 rows x 8 columns]"
      ]
     },
     "execution_count": 16,
     "metadata": {},
     "output_type": "execute_result"
    }
   ],
   "source": [
    "result"
   ]
  },
  {
   "cell_type": "code",
   "execution_count": 17,
   "metadata": {
    "executionInfo": {
     "elapsed": 5,
     "status": "ok",
     "timestamp": 1654691052411,
     "user": {
      "displayName": "Mariusz Majdak",
      "userId": "01933143691972178020"
     },
     "user_tz": -120
    },
    "id": "SGkHI5siKWpL"
   },
   "outputs": [],
   "source": [
    "# wypelnienie kolumny 'Niedziele handlowe', poprzez utworzenie listy z datami niedziel handlowych w 2019 roku i sprawdzenie przy pomoca petli kazdej niedzieli - czy jej data przypadla na ta handlowa - jesli tak wpisane zostalo do kolumny slowo 'yes'\n",
    "\n",
    "sundays = [(date(2019,1,27)), (date(2019,2,24)), (date(2019,3,31)), (date(2019,4,14)), (date(2019,4,28)), (date(2019,12,29)), (date(2019,5,26)), (date(2019,6,30)), (date(2019,7,28)), (date(2019,8,25)), (date(2019,9,29)), (date(2019,10,27)), (date(2019,11,24)), (date(2019,12,15)), (date(2019,12,22)) ]\n"
   ]
  },
  {
   "cell_type": "code",
   "execution_count": 18,
   "metadata": {
    "colab": {
     "base_uri": "https://localhost:8080/"
    },
    "executionInfo": {
     "elapsed": 11,
     "status": "ok",
     "timestamp": 1654691052682,
     "user": {
      "displayName": "Mariusz Majdak",
      "userId": "01933143691972178020"
     },
     "user_tz": -120
    },
    "id": "NL86jIjtp-rL",
    "outputId": "9faf04e6-125a-419a-b8a8-91454d4585a4"
   },
   "outputs": [
    {
     "name": "stderr",
     "output_type": "stream",
     "text": [
      "C:\\Users\\Mariusz\\anaconda3\\lib\\site-packages\\pandas\\core\\indexing.py:1637: SettingWithCopyWarning: \n",
      "A value is trying to be set on a copy of a slice from a DataFrame\n",
      "\n",
      "See the caveats in the documentation: https://pandas.pydata.org/pandas-docs/stable/user_guide/indexing.html#returning-a-view-versus-a-copy\n",
      "  self._setitem_single_block(indexer, value, name)\n"
     ]
    }
   ],
   "source": [
    "for m in range(0, len(result)):\n",
    "  if result['Dzien tygodnia'].loc[m] == 'Sunday' and result['date'].loc[m] in sundays:\n",
    "    result['Niedziele handlowe'].loc[m] = 'yes'"
   ]
  },
  {
   "cell_type": "code",
   "execution_count": 19,
   "metadata": {
    "colab": {
     "base_uri": "https://localhost:8080/",
     "height": 519
    },
    "executionInfo": {
     "elapsed": 11,
     "status": "ok",
     "timestamp": 1654691052683,
     "user": {
      "displayName": "Mariusz Majdak",
      "userId": "01933143691972178020"
     },
     "user_tz": -120
    },
    "id": "Q-XJsJi9H-V6",
    "outputId": "910684a7-b323-470e-ca15-52a80732812e"
   },
   "outputs": [
    {
     "data": {
      "text/html": [
       "<div>\n",
       "<style scoped>\n",
       "    .dataframe tbody tr th:only-of-type {\n",
       "        vertical-align: middle;\n",
       "    }\n",
       "\n",
       "    .dataframe tbody tr th {\n",
       "        vertical-align: top;\n",
       "    }\n",
       "\n",
       "    .dataframe thead th {\n",
       "        text-align: right;\n",
       "    }\n",
       "</style>\n",
       "<table border=\"1\" class=\"dataframe\">\n",
       "  <thead>\n",
       "    <tr style=\"text-align: right;\">\n",
       "      <th></th>\n",
       "      <th>Unnamed: 0</th>\n",
       "      <th>date</th>\n",
       "      <th>bikes</th>\n",
       "      <th>Dzien tygodnia</th>\n",
       "      <th>Miesiac</th>\n",
       "      <th>Pora roku</th>\n",
       "      <th>Kwartal</th>\n",
       "      <th>Niedziele handlowe</th>\n",
       "    </tr>\n",
       "  </thead>\n",
       "  <tbody>\n",
       "    <tr>\n",
       "      <th>24</th>\n",
       "      <td>25</td>\n",
       "      <td>2019-01-27</td>\n",
       "      <td>51</td>\n",
       "      <td>Sunday</td>\n",
       "      <td>January</td>\n",
       "      <td>Winter</td>\n",
       "      <td>1</td>\n",
       "      <td>yes</td>\n",
       "    </tr>\n",
       "    <tr>\n",
       "      <th>52</th>\n",
       "      <td>53</td>\n",
       "      <td>2019-02-24</td>\n",
       "      <td>70</td>\n",
       "      <td>Sunday</td>\n",
       "      <td>February</td>\n",
       "      <td>Winter</td>\n",
       "      <td>1</td>\n",
       "      <td>yes</td>\n",
       "    </tr>\n",
       "    <tr>\n",
       "      <th>87</th>\n",
       "      <td>88</td>\n",
       "      <td>2019-03-31</td>\n",
       "      <td>153</td>\n",
       "      <td>Sunday</td>\n",
       "      <td>March</td>\n",
       "      <td>Spring</td>\n",
       "      <td>1</td>\n",
       "      <td>yes</td>\n",
       "    </tr>\n",
       "    <tr>\n",
       "      <th>101</th>\n",
       "      <td>102</td>\n",
       "      <td>2019-04-14</td>\n",
       "      <td>107</td>\n",
       "      <td>Sunday</td>\n",
       "      <td>April</td>\n",
       "      <td>Spring</td>\n",
       "      <td>2</td>\n",
       "      <td>yes</td>\n",
       "    </tr>\n",
       "    <tr>\n",
       "      <th>113</th>\n",
       "      <td>114</td>\n",
       "      <td>2019-04-28</td>\n",
       "      <td>98</td>\n",
       "      <td>Sunday</td>\n",
       "      <td>April</td>\n",
       "      <td>Spring</td>\n",
       "      <td>2</td>\n",
       "      <td>yes</td>\n",
       "    </tr>\n",
       "    <tr>\n",
       "      <th>139</th>\n",
       "      <td>140</td>\n",
       "      <td>2019-05-26</td>\n",
       "      <td>171</td>\n",
       "      <td>Sunday</td>\n",
       "      <td>May</td>\n",
       "      <td>Spring</td>\n",
       "      <td>2</td>\n",
       "      <td>yes</td>\n",
       "    </tr>\n",
       "    <tr>\n",
       "      <th>172</th>\n",
       "      <td>173</td>\n",
       "      <td>2019-06-30</td>\n",
       "      <td>127</td>\n",
       "      <td>Sunday</td>\n",
       "      <td>June</td>\n",
       "      <td>Summer</td>\n",
       "      <td>2</td>\n",
       "      <td>yes</td>\n",
       "    </tr>\n",
       "    <tr>\n",
       "      <th>200</th>\n",
       "      <td>201</td>\n",
       "      <td>2019-07-28</td>\n",
       "      <td>119</td>\n",
       "      <td>Sunday</td>\n",
       "      <td>July</td>\n",
       "      <td>Summer</td>\n",
       "      <td>3</td>\n",
       "      <td>yes</td>\n",
       "    </tr>\n",
       "    <tr>\n",
       "      <th>226</th>\n",
       "      <td>227</td>\n",
       "      <td>2019-08-25</td>\n",
       "      <td>138</td>\n",
       "      <td>Sunday</td>\n",
       "      <td>August</td>\n",
       "      <td>Summer</td>\n",
       "      <td>3</td>\n",
       "      <td>yes</td>\n",
       "    </tr>\n",
       "    <tr>\n",
       "      <th>261</th>\n",
       "      <td>262</td>\n",
       "      <td>2019-09-29</td>\n",
       "      <td>105</td>\n",
       "      <td>Sunday</td>\n",
       "      <td>September</td>\n",
       "      <td>Autumn</td>\n",
       "      <td>3</td>\n",
       "      <td>yes</td>\n",
       "    </tr>\n",
       "    <tr>\n",
       "      <th>288</th>\n",
       "      <td>289</td>\n",
       "      <td>2019-10-27</td>\n",
       "      <td>90</td>\n",
       "      <td>Sunday</td>\n",
       "      <td>October</td>\n",
       "      <td>Autumn</td>\n",
       "      <td>4</td>\n",
       "      <td>yes</td>\n",
       "    </tr>\n",
       "    <tr>\n",
       "      <th>314</th>\n",
       "      <td>315</td>\n",
       "      <td>2019-11-24</td>\n",
       "      <td>134</td>\n",
       "      <td>Sunday</td>\n",
       "      <td>November</td>\n",
       "      <td>Autumn</td>\n",
       "      <td>4</td>\n",
       "      <td>yes</td>\n",
       "    </tr>\n",
       "    <tr>\n",
       "      <th>335</th>\n",
       "      <td>336</td>\n",
       "      <td>2019-12-15</td>\n",
       "      <td>176</td>\n",
       "      <td>Sunday</td>\n",
       "      <td>December</td>\n",
       "      <td>Autumn</td>\n",
       "      <td>4</td>\n",
       "      <td>yes</td>\n",
       "    </tr>\n",
       "    <tr>\n",
       "      <th>342</th>\n",
       "      <td>343</td>\n",
       "      <td>2019-12-22</td>\n",
       "      <td>51</td>\n",
       "      <td>Sunday</td>\n",
       "      <td>December</td>\n",
       "      <td>Winter</td>\n",
       "      <td>4</td>\n",
       "      <td>yes</td>\n",
       "    </tr>\n",
       "    <tr>\n",
       "      <th>347</th>\n",
       "      <td>348</td>\n",
       "      <td>2019-12-29</td>\n",
       "      <td>82</td>\n",
       "      <td>Sunday</td>\n",
       "      <td>December</td>\n",
       "      <td>Winter</td>\n",
       "      <td>4</td>\n",
       "      <td>yes</td>\n",
       "    </tr>\n",
       "  </tbody>\n",
       "</table>\n",
       "</div>"
      ],
      "text/plain": [
       "     Unnamed: 0        date  bikes Dzien tygodnia    Miesiac Pora roku  \\\n",
       "24           25  2019-01-27     51         Sunday    January    Winter   \n",
       "52           53  2019-02-24     70         Sunday   February    Winter   \n",
       "87           88  2019-03-31    153         Sunday      March    Spring   \n",
       "101         102  2019-04-14    107         Sunday      April    Spring   \n",
       "113         114  2019-04-28     98         Sunday      April    Spring   \n",
       "139         140  2019-05-26    171         Sunday        May    Spring   \n",
       "172         173  2019-06-30    127         Sunday       June    Summer   \n",
       "200         201  2019-07-28    119         Sunday       July    Summer   \n",
       "226         227  2019-08-25    138         Sunday     August    Summer   \n",
       "261         262  2019-09-29    105         Sunday  September    Autumn   \n",
       "288         289  2019-10-27     90         Sunday    October    Autumn   \n",
       "314         315  2019-11-24    134         Sunday   November    Autumn   \n",
       "335         336  2019-12-15    176         Sunday   December    Autumn   \n",
       "342         343  2019-12-22     51         Sunday   December    Winter   \n",
       "347         348  2019-12-29     82         Sunday   December    Winter   \n",
       "\n",
       "    Kwartal Niedziele handlowe  \n",
       "24        1                yes  \n",
       "52        1                yes  \n",
       "87        1                yes  \n",
       "101       2                yes  \n",
       "113       2                yes  \n",
       "139       2                yes  \n",
       "172       2                yes  \n",
       "200       3                yes  \n",
       "226       3                yes  \n",
       "261       3                yes  \n",
       "288       4                yes  \n",
       "314       4                yes  \n",
       "335       4                yes  \n",
       "342       4                yes  \n",
       "347       4                yes  "
      ]
     },
     "execution_count": 19,
     "metadata": {},
     "output_type": "execute_result"
    }
   ],
   "source": [
    "# ponizej test, w ktorym sprawdzam czy dostanemy DataFrame z 15 wierszami, odpowiadajacymi niedzielom handlowym w 2019 roku\n",
    "\n",
    "result[result['Niedziele handlowe'] == 'yes']"
   ]
  },
  {
   "cell_type": "code",
   "execution_count": 20,
   "metadata": {
    "colab": {
     "base_uri": "https://localhost:8080/"
    },
    "executionInfo": {
     "elapsed": 11,
     "status": "ok",
     "timestamp": 1654691052684,
     "user": {
      "displayName": "Mariusz Majdak",
      "userId": "01933143691972178020"
     },
     "user_tz": -120
    },
    "id": "KqacXz-EK9F4",
    "outputId": "02c5f125-8f18-40fa-c0dd-3bceddae574a"
   },
   "outputs": [
    {
     "name": "stdout",
     "output_type": "stream",
     "text": [
      "<class 'pandas.core.frame.DataFrame'>\n",
      "Index: 350 entries, 0 to 349\n",
      "Data columns (total 8 columns):\n",
      " #   Column              Non-Null Count  Dtype \n",
      "---  ------              --------------  ----- \n",
      " 0   Unnamed: 0          350 non-null    int64 \n",
      " 1   date                350 non-null    object\n",
      " 2   bikes               350 non-null    int64 \n",
      " 3   Dzien tygodnia      350 non-null    object\n",
      " 4   Miesiac             350 non-null    object\n",
      " 5   Pora roku           350 non-null    object\n",
      " 6   Kwartal             350 non-null    object\n",
      " 7   Niedziele handlowe  15 non-null     object\n",
      "dtypes: int64(2), object(6)\n",
      "memory usage: 32.7+ KB\n"
     ]
    }
   ],
   "source": [
    "result.info()"
   ]
  },
  {
   "cell_type": "markdown",
   "metadata": {
    "id": "sHowGGeRsFlh"
   },
   "source": [
    "Wykonanie trzeciej części zadania."
   ]
  },
  {
   "cell_type": "code",
   "execution_count": 21,
   "metadata": {
    "executionInfo": {
     "elapsed": 9,
     "status": "ok",
     "timestamp": 1654691052684,
     "user": {
      "displayName": "Mariusz Majdak",
      "userId": "01933143691972178020"
     },
     "user_tz": -120
    },
    "id": "rV4oSSr44lmE"
   },
   "outputs": [],
   "source": [
    "# Policzenie sredniej sprzedazy na dzien tygodnia wraz z bar plotem:\n",
    "\n",
    "group1 = result['bikes'].groupby(result['Dzien tygodnia'], sort=False)"
   ]
  },
  {
   "cell_type": "code",
   "execution_count": 22,
   "metadata": {
    "colab": {
     "base_uri": "https://localhost:8080/"
    },
    "executionInfo": {
     "elapsed": 10,
     "status": "ok",
     "timestamp": 1654691052685,
     "user": {
      "displayName": "Mariusz Majdak",
      "userId": "01933143691972178020"
     },
     "user_tz": -120
    },
    "id": "04M2zZjmGUHu",
    "outputId": "5c8febab-8d48-4604-ab1e-659f268537f2"
   },
   "outputs": [
    {
     "data": {
      "text/plain": [
       "Dzien tygodnia\n",
       "Wednesday    176.775510\n",
       "Thursday     190.666667\n",
       "Friday       236.340000\n",
       "Saturday     211.686275\n",
       "Monday       182.607843\n",
       "Tuesday      178.480000\n",
       "Sunday       113.117647\n",
       "Name: bikes, dtype: float64"
      ]
     },
     "execution_count": 22,
     "metadata": {},
     "output_type": "execute_result"
    }
   ],
   "source": [
    "group1.mean()"
   ]
  },
  {
   "cell_type": "code",
   "execution_count": 23,
   "metadata": {
    "colab": {
     "base_uri": "https://localhost:8080/",
     "height": 333
    },
    "executionInfo": {
     "elapsed": 346,
     "status": "ok",
     "timestamp": 1654691053023,
     "user": {
      "displayName": "Mariusz Majdak",
      "userId": "01933143691972178020"
     },
     "user_tz": -120
    },
    "id": "G96GkTwAEhYS",
    "outputId": "6f2cb051-73f3-46a6-ced1-48b9f1349f5a"
   },
   "outputs": [
    {
     "data": {
      "image/png": "[encoded data removed]",
      "text/plain": [
       "<Figure size 432x288 with 1 Axes>"
      ]
     },
     "metadata": {
      "needs_background": "light"
     },
     "output_type": "display_data"
    }
   ],
   "source": [
    "plt.bar(group1.mean().to_dict().keys(), group1.mean().to_dict().values())\n",
    "plt.title('Average weekday sales')\n",
    "plt.xlabel('Day of the week')\n",
    "plt.ylabel('Average of sales')\n",
    "plt.xticks(rotation=45)\n",
    "plt.show()"
   ]
  },
  {
   "cell_type": "code",
   "execution_count": 24,
   "metadata": {
    "executionInfo": {
     "elapsed": 22,
     "status": "ok",
     "timestamp": 1654691053024,
     "user": {
      "displayName": "Mariusz Majdak",
      "userId": "01933143691972178020"
     },
     "user_tz": -120
    },
    "id": "9Pf1OvqN7_L-"
   },
   "outputs": [],
   "source": [
    "# Policzenie sredniej sprzedazy wedlug pory roku wraz z bar plotem:\n",
    "\n",
    "group2 = result['bikes'].groupby(result['Pora roku'], sort=False)"
   ]
  },
  {
   "cell_type": "code",
   "execution_count": 25,
   "metadata": {
    "colab": {
     "base_uri": "https://localhost:8080/"
    },
    "executionInfo": {
     "elapsed": 23,
     "status": "ok",
     "timestamp": 1654691053025,
     "user": {
      "displayName": "Mariusz Majdak",
      "userId": "01933143691972178020"
     },
     "user_tz": -120
    },
    "id": "LL7yg6h_8NFa",
    "outputId": "490f21e7-b349-4171-8a76-3acbab2ecd3d"
   },
   "outputs": [
    {
     "data": {
      "text/plain": [
       "Pora roku\n",
       "Winter    152.465116\n",
       "Spring    223.523256\n",
       "Summer    207.521739\n",
       "Autumn    151.232558\n",
       "Name: bikes, dtype: float64"
      ]
     },
     "execution_count": 25,
     "metadata": {},
     "output_type": "execute_result"
    }
   ],
   "source": [
    "group2.mean()"
   ]
  },
  {
   "cell_type": "code",
   "execution_count": 26,
   "metadata": {
    "colab": {
     "base_uri": "https://localhost:8080/",
     "height": 295
    },
    "executionInfo": {
     "elapsed": 21,
     "status": "ok",
     "timestamp": 1654691053025,
     "user": {
      "displayName": "Mariusz Majdak",
      "userId": "01933143691972178020"
     },
     "user_tz": -120
    },
    "id": "8CIdZxLKm6gF",
    "outputId": "9693037d-522c-4c5a-f940-dc833f2e07a3"
   },
   "outputs": [
    {
     "data": {
      "image/png": "[encoded data removed]",
      "text/plain": [
       "<Figure size 432x288 with 1 Axes>"
      ]
     },
     "metadata": {
      "needs_background": "light"
     },
     "output_type": "display_data"
    }
   ],
   "source": [
    "plt.bar(group2.mean().to_dict().keys(), group2.mean().to_dict().values())\n",
    "plt.title('Average season of sales')\n",
    "plt.xlabel('Season')\n",
    "plt.ylabel('Average of sales')\n",
    "plt.show()"
   ]
  },
  {
   "cell_type": "code",
   "execution_count": 27,
   "metadata": {
    "executionInfo": {
     "elapsed": 21,
     "status": "ok",
     "timestamp": 1654691053026,
     "user": {
      "displayName": "Mariusz Majdak",
      "userId": "01933143691972178020"
     },
     "user_tz": -120
    },
    "id": "f6NuEDtQ8ZMQ"
   },
   "outputs": [],
   "source": [
    "group3 = result['bikes'].groupby(result['Miesiac'], sort=False)"
   ]
  },
  {
   "cell_type": "code",
   "execution_count": 28,
   "metadata": {
    "colab": {
     "base_uri": "https://localhost:8080/"
    },
    "executionInfo": {
     "elapsed": 294,
     "status": "ok",
     "timestamp": 1654691053299,
     "user": {
      "displayName": "Mariusz Majdak",
      "userId": "01933143691972178020"
     },
     "user_tz": -120
    },
    "id": "cqYJ_fqP8fhO",
    "outputId": "9029d205-24d2-4e20-bb70-cb105f575103"
   },
   "outputs": [
    {
     "data": {
      "text/plain": [
       "Miesiac\n",
       "January      144.586207\n",
       "February     156.250000\n",
       "March        170.451613\n",
       "April        208.214286\n",
       "May          248.517241\n",
       "June         230.607143\n",
       "July         258.516129\n",
       "August       210.206897\n",
       "September    129.300000\n",
       "October      161.533333\n",
       "November     150.214286\n",
       "December     139.517241\n",
       "Name: bikes, dtype: float64"
      ]
     },
     "execution_count": 28,
     "metadata": {},
     "output_type": "execute_result"
    }
   ],
   "source": [
    "group3.mean()"
   ]
  },
  {
   "cell_type": "code",
   "execution_count": 29,
   "metadata": {
    "executionInfo": {
     "elapsed": 11,
     "status": "ok",
     "timestamp": 1654691053301,
     "user": {
      "displayName": "Mariusz Majdak",
      "userId": "01933143691972178020"
     },
     "user_tz": -120
    },
    "id": "8cbhGLsh9HGW"
   },
   "outputs": [],
   "source": [
    "import numpy as np"
   ]
  },
  {
   "cell_type": "code",
   "execution_count": 30,
   "metadata": {
    "colab": {
     "base_uri": "https://localhost:8080/",
     "height": 358
    },
    "executionInfo": {
     "elapsed": 318,
     "status": "ok",
     "timestamp": 1654692003237,
     "user": {
      "displayName": "Mariusz Majdak",
      "userId": "01933143691972178020"
     },
     "user_tz": -120
    },
    "id": "aYhLXH7WnHJW",
    "outputId": "a05332ef-8317-4241-e9f7-1f84356dde0d"
   },
   "outputs": [
    {
     "data": {
      "image/png": "[encoded data removed]",
      "text/plain": [
       "<Figure size 432x288 with 1 Axes>"
      ]
     },
     "metadata": {
      "needs_background": "light"
     },
     "output_type": "display_data"
    },
    {
     "data": {
      "text/plain": [
       "<Figure size 2880x2160 with 0 Axes>"
      ]
     },
     "metadata": {},
     "output_type": "display_data"
    }
   ],
   "source": [
    "plt.bar(group3.mean().to_dict().keys(), group3.mean().to_dict().values())\n",
    "plt.title('Average sales on each month')\n",
    "plt.xlabel('Month of the year')\n",
    "plt.ylabel('Average of sales')\n",
    "plt.xticks(result['Miesiac'].unique(), rotation=90 )\n",
    "plt.figure(figsize=(40,30))\n",
    "plt.show()"
   ]
  },
  {
   "cell_type": "markdown",
   "metadata": {
    "id": "CHBqWXCLxDJJ"
   },
   "source": [
    "Wykonanie czwartej części."
   ]
  },
  {
   "cell_type": "code",
   "execution_count": 31,
   "metadata": {
    "colab": {
     "base_uri": "https://localhost:8080/"
    },
    "executionInfo": {
     "elapsed": 11,
     "status": "ok",
     "timestamp": 1654691053303,
     "user": {
      "displayName": "Mariusz Majdak",
      "userId": "01933143691972178020"
     },
     "user_tz": -120
    },
    "id": "gm5YRsv4lePX",
    "outputId": "3de6b242-e437-4651-d13f-3ed9201a47bc"
   },
   "outputs": [
    {
     "data": {
      "text/plain": [
       "Dzien tygodnia\n",
       "Wednesday     8662\n",
       "Thursday      9152\n",
       "Friday       11817\n",
       "Saturday     10796\n",
       "Monday        9313\n",
       "Tuesday       8924\n",
       "Sunday        5769\n",
       "Name: bikes, dtype: int64"
      ]
     },
     "execution_count": 31,
     "metadata": {},
     "output_type": "execute_result"
    }
   ],
   "source": [
    "group1.sum()"
   ]
  },
  {
   "cell_type": "code",
   "execution_count": 32,
   "metadata": {
    "colab": {
     "base_uri": "https://localhost:8080/",
     "height": 333
    },
    "executionInfo": {
     "elapsed": 297,
     "status": "ok",
     "timestamp": 1654691948080,
     "user": {
      "displayName": "Mariusz Majdak",
      "userId": "01933143691972178020"
     },
     "user_tz": -120
    },
    "id": "h4NzWax-i3je",
    "outputId": "156593ef-29eb-4435-805f-516fc804ccc5"
   },
   "outputs": [
    {
     "data": {
      "image/png": "[encoded data removed]",
      "text/plain": [
       "<Figure size 432x288 with 1 Axes>"
      ]
     },
     "metadata": {
      "needs_background": "light"
     },
     "output_type": "display_data"
    }
   ],
   "source": [
    "plt.bar(group1.sum().to_dict().keys(), group1.sum().to_dict().values())\n",
    "plt.ylabel('Gloabal sales in each day')\n",
    "plt.xlabel('Day of the week')\n",
    "plt.title('Sum of sales on each day')\n",
    "plt.xticks(rotation=45)\n",
    "plt.show()"
   ]
  },
  {
   "cell_type": "markdown",
   "metadata": {
    "id": "3KsA2bfYxKxu"
   },
   "source": [
    "Na przestrzeni całego 2019 roku rowery najlepiej sprzedawały się w piątek (tj. łącznie 11817 sztuk). Drugim dniem z przekroczoną granicą 10 tys. sztuk jest kolejny dzień weekendu, tj. sobota. Analiza wykazuje, że najlepszymi dniami handlowymi były dwa pierwsze dni weekendu. Z pewnością miało to związek z dużą ilością czasu wolnego oraz z planami na ten czas wśród kupujących. Kolejne dni w zestawieniu - od poniedziałku do czwartku, mają globalnie dość zbliżony wolumen. Najgorzej wypada niedziela - globalny wynik jest poniżej poziomu 6 tysięcy sztuk."
   ]
  },
  {
   "cell_type": "markdown",
   "metadata": {
    "id": "dJ6XEEod9rj4"
   },
   "source": [
    "Rozwiązanie piątej części zadania, wraz z wykresem szeregu czasowego i zaznaczeniem pięciu dni (czerwoną kropką), które miały w ciągu 2019 roku najlepsze wyniki sprzedaży."
   ]
  },
  {
   "cell_type": "code",
   "execution_count": 33,
   "metadata": {
    "executionInfo": {
     "elapsed": 7,
     "status": "ok",
     "timestamp": 1654691053727,
     "user": {
      "displayName": "Mariusz Majdak",
      "userId": "01933143691972178020"
     },
     "user_tz": -120
    },
    "id": "jlPKawaZHg2_"
   },
   "outputs": [],
   "source": [
    "a = pd.DataFrame(sorted(result[['date', 'bikes']].groupby(by=['bikes', 'date']), reverse=True)[:5])[0]"
   ]
  },
  {
   "cell_type": "code",
   "execution_count": 34,
   "metadata": {
    "colab": {
     "base_uri": "https://localhost:8080/",
     "height": 313
    },
    "executionInfo": {
     "elapsed": 371,
     "status": "ok",
     "timestamp": 1654691921936,
     "user": {
      "displayName": "Mariusz Majdak",
      "userId": "01933143691972178020"
     },
     "user_tz": -120
    },
    "id": "baAwFEhfnJBm",
    "outputId": "5ff7ef8b-02ee-4516-8ae8-c55fbe5801cb"
   },
   "outputs": [
    {
     "data": {
      "image/png": "[encoded data removed]",
      "text/plain": [
       "<Figure size 432x288 with 1 Axes>"
      ]
     },
     "metadata": {
      "needs_background": "light"
     },
     "output_type": "display_data"
    },
    {
     "data": {
      "text/plain": [
       "<Figure size 2160x2160 with 0 Axes>"
      ]
     },
     "metadata": {},
     "output_type": "display_data"
    }
   ],
   "source": [
    "plt.title('Sales in 2019')\n",
    "\n",
    "for n in range(0, len(a)):\n",
    "  plt.scatter(a[n][1], a[n][0], c='r')\n",
    "\n",
    "plt.plot(result['date'], result['bikes'])\n",
    "plt.ylabel('Sales per day')\n",
    "plt.xlabel('Date')\n",
    "plt.figure(figsize=(30,30))\n",
    "plt.show()"
   ]
  },
  {
   "cell_type": "markdown",
   "metadata": {
    "id": "xwwy7MyB-Dun"
   },
   "source": [
    "W odpowiedzi na szóstą część zadania: \n",
    "Uważam, że w prognozowaniu przyszłej sprzedaży mogłyby być pomocne dane dotyczące czynników atmosferycznych - tj. średniej temperatury oraz średniej ilości opadów. Według mnie użytkownicy rowerów, dużo chętniej jeżdżą jednośladem, gdy jest ciepło oraz sucho. W prognozowaniu mogą być pomocne również informacje dotyczące demografii - według mnie społeczeństwo młodsze, częściej będzie wybierać ten środek transportu. Bardzo pomocnym czynnikiem może być również informacja na temat infrastruktury drogowej, a więc na przykład informacja na temat średniej długości ścieżek rowerowych. Owe trasy są gwarantem bezpieczeństwa dla rowerzystów, a więc jeśli ich sieć stale się powięszka, można domniemywać, że wzrastać będzie również popyt na ten środek transportu."
   ]
  }
 ],
 "metadata": {
  "colab": {
   "authorship_tag": "ABX9TyN/o+irxCqkI3S8h3cftW5E",
   "collapsed_sections": [],
   "name": "bikes.ipynb",
   "provenance": []
  },
  "hide_input": false,
  "kernelspec": {
   "display_name": "Python 3",
   "language": "python",
   "name": "python3"
  },
  "language_info": {
   "codemirror_mode": {
    "name": "ipython",
    "version": 3
   },
   "file_extension": ".py",
   "mimetype": "text/x-python",
   "name": "python",
   "nbconvert_exporter": "python",
   "pygments_lexer": "ipython3",
   "version": "3.8.8"
  }
 },
 "nbformat": 4,
 "nbformat_minor": 1
}
