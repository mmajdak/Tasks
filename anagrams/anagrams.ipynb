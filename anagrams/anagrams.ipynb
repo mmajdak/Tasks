{
 "cells": [
  {
   "cell_type": "markdown",
   "metadata": {},
   "source": [
    "Anagram to słowo powstałe przez przestawienie liter drugiego słowa, składające się dokładnie z tych samych liter co drugie słowo. Przykładem anagramu dla słowa arbuz jest słowo burza.\n",
    "Napisz program, który na wejściu przyjmuje dwa napisy oddzielone znakiem nowej linii, a następnie zdecyduje czy napisy są anagramami (wypisując 1 jeżeli są lub 0 jeżeli nimi nie są). Dwa puste napisy są swoimi anagramami."
   ]
  },
  {
   "cell_type": "code",
   "execution_count": 1,
   "metadata": {
    "executionInfo": {
     "elapsed": 414,
     "status": "ok",
     "timestamp": 1652934626478,
     "user": {
      "displayName": "Mariusz Majdak",
      "userId": "12983166214922855340"
     },
     "user_tz": -120
    },
    "id": "sQcfbAA1jYwQ"
   },
   "outputs": [],
   "source": [
    "def sprawdz_slowo(slowo):\n",
    "    s = list(slowo)\n",
    "    zmian = 1\n",
    "    for i in range(len(s) - 1):\n",
    "        if zmian == 0:\n",
    "            break\n",
    "        zmian = 0\n",
    "        for j in range(len(s)  - 1):\n",
    "            if s[j] > s[j + 1]:\n",
    "                s[j], s[j + 1] = s[j + 1], s[j]\n",
    "                zmian += 1\n",
    "    return s"
   ]
  },
  {
   "cell_type": "code",
   "execution_count": 2,
   "metadata": {
    "executionInfo": {
     "elapsed": 7,
     "status": "ok",
     "timestamp": 1652934627901,
     "user": {
      "displayName": "Mariusz Majdak",
      "userId": "12983166214922855340"
     },
     "user_tz": -120
    },
    "id": "5bXjzKt9j6ae"
   },
   "outputs": [],
   "source": [
    "def sprawdz_anagramy(x, y):\n",
    "    if len(x) != len(y):\n",
    "        return False\n",
    "    return sprawdz_slowo(x) == sprawdz_slowo(y)"
   ]
  },
  {
   "cell_type": "code",
   "execution_count": 3,
   "metadata": {
    "colab": {
     "base_uri": "https://localhost:8080/"
    },
    "executionInfo": {
     "elapsed": 6776,
     "status": "ok",
     "timestamp": 1652934661409,
     "user": {
      "displayName": "Mariusz Majdak",
      "userId": "12983166214922855340"
     },
     "user_tz": -120
    },
    "id": "bTMYLKA1j88S",
    "outputId": "ce412355-fd1e-40ee-80d6-e64404e2fe7c"
   },
   "outputs": [
    {
     "name": "stdout",
     "output_type": "stream",
     "text": [
      "Podaj pierwsze slowo, wciśnij ENTER i podaj drugie słowo i również ENTER\n",
      "burza\n",
      "arbuz\n",
      "Rezultat: 1 \n"
     ]
    }
   ],
   "source": [
    "print(\"Podaj pierwsze slowo, wciśnij ENTER i podaj drugie słowo i również ENTER\")\n",
    "s1 = input().lower()\n",
    "s2 = input().lower()\n",
    "print(\"Rezultat: \" + (\"1 \" if(sprawdz_anagramy(s1, s2)) else \"0 \"))"
   ]
  },
  {
   "cell_type": "code",
   "execution_count": null,
   "metadata": {},
   "outputs": [],
   "source": []
  }
 ],
 "metadata": {
  "colab": {
   "authorship_tag": "ABX9TyOfPSZqimt4VwtZ14EkPHvL",
   "collapsed_sections": [],
   "name": "anagrams.ipynb",
   "provenance": []
  },
  "hide_input": false,
  "kernelspec": {
   "display_name": "Python 3",
   "language": "python",
   "name": "python3"
  },
  "language_info": {
   "codemirror_mode": {
    "name": "ipython",
    "version": 3
   },
   "file_extension": ".py",
   "mimetype": "text/x-python",
   "name": "python",
   "nbconvert_exporter": "python",
   "pygments_lexer": "ipython3",
   "version": "3.8.8"
  }
 },
 "nbformat": 4,
 "nbformat_minor": 1
}
